{
 "cells": [
  {
   "cell_type": "markdown",
   "id": "b822b32d",
   "metadata": {},
   "source": [
    "### You can run the following chunk of code to import any libraries or packages required to run the rest of the script."
   ]
  },
  {
   "cell_type": "code",
   "execution_count": 1,
   "id": "geographic-hepatitis",
   "metadata": {},
   "outputs": [],
   "source": [
    "import pandas as pd\n",
    "import numpy as np"
   ]
  },
  {
   "cell_type": "markdown",
   "id": "0ff01207",
   "metadata": {},
   "source": [
    "### You can run the following chunk of code to convert MBM video tracks data into MBM dynamics data.\n",
    "\n",
    "The user will need to adjust the base_Directory variable, as well as pay careful attention to the directory sctructure of the script."
   ]
  },
  {
   "cell_type": "code",
   "execution_count": 3,
   "id": "suffering-google",
   "metadata": {},
   "outputs": [],
   "source": [
    "base_Directory = \"\"\n",
    "\n",
    "tracks = pd.read_csv(base_Directory + \"Analysis/Video_Data/Dynamics_Data_Tracks.csv\")\n",
    "\n",
    "unique_Cells = tracks[\"Cell Number\"].unique()\n",
    "\n",
    "frames_Attached = []\n",
    "frames_Detached = []\n",
    "average_Vertical_Positions = []\n",
    "average_Horizontal_Positions = []\n",
    "starting_Vertical_Positions = []\n",
    "final_Vertical_Positions = []\n",
    "starting_Horizontal_Positions = []\n",
    "final_Horizontal_Positions = []\n",
    "for cell_Number in unique_Cells:\n",
    "    frame_Data = tracks[tracks[\"Cell Number\"] == cell_Number]\n",
    "    frame_Attached = frame_Data[\"Frame\"].iloc[0]\n",
    "    frame_Detached = frame_Data[\"Frame\"].iloc[len(frame_Data) - 1]\n",
    "    #if frame_Detached - frame_Attached < 1:\n",
    "        #continue\n",
    "    average_Vertical_Position = np.mean(frame_Data[\"Vertical Position\"])\n",
    "    average_Horizontal_Position = np.mean(frame_Data[\"Horizontal Position\"])\n",
    "    starting_Vertical_Position = frame_Data[\"Vertical Position\"].iloc[0]\n",
    "    final_Vertical_Position = frame_Data[\"Vertical Position\"].iloc[len(frame_Data) - 1] \n",
    "    starting_Horizontal_Position = frame_Data[\"Horizontal Position\"].iloc[0]\n",
    "    final_Horizontal_Position = frame_Data[\"Horizontal Position\"].iloc[len(frame_Data) - 1]\n",
    "    frames_Attached.append(frame_Attached)\n",
    "    frames_Detached.append(frame_Detached)\n",
    "    average_Vertical_Positions.append(average_Vertical_Position)\n",
    "    average_Horizontal_Positions.append(average_Horizontal_Position)\n",
    "    starting_Vertical_Positions.append(starting_Vertical_Position)\n",
    "    starting_Horizontal_Positions.append(starting_Horizontal_Position)\n",
    "    final_Vertical_Positions.append(final_Vertical_Position)\n",
    "    final_Horizontal_Positions.append(final_Horizontal_Position)\n",
    "    \n",
    "output_Df = pd.DataFrame(list(zip(frames_Attached, frames_Detached,average_Vertical_Positions,average_Horizontal_Positions,\n",
    "                                 starting_Vertical_Positions,starting_Horizontal_Positions,final_Vertical_Positions,\n",
    "                                  final_Horizontal_Positions)),\n",
    "               columns =[\"Frame Attached\", \"Frame Detached\", \"Average Vertical Position\", \"Average Horizontal Position\",\n",
    "                        \"Starting Vertical Position\", \"Starting Horizontal Position\", \"Final Vertical Position\",\n",
    "                        \"Final Horizontal Position\"])\n",
    "\n",
    "output_Df.to_csv(base_Directory + \"Analysis/Video_Data/Dynamics_Data.csv\", index = False)"
   ]
  },
  {
   "cell_type": "code",
   "execution_count": null,
   "id": "forty-industry",
   "metadata": {},
   "outputs": [],
   "source": []
  }
 ],
 "metadata": {
  "kernelspec": {
   "display_name": "Python 3 (ipykernel)",
   "language": "python",
   "name": "python3"
  },
  "language_info": {
   "codemirror_mode": {
    "name": "ipython",
    "version": 3
   },
   "file_extension": ".py",
   "mimetype": "text/x-python",
   "name": "python",
   "nbconvert_exporter": "python",
   "pygments_lexer": "ipython3",
   "version": "3.9.15"
  }
 },
 "nbformat": 4,
 "nbformat_minor": 5
}
