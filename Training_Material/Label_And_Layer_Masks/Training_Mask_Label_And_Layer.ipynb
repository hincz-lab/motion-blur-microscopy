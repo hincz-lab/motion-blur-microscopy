{
  "nbformat": 4,
  "nbformat_minor": 0,
  "metadata": {
    "colab": {
      "provenance": [],
      "authorship_tag": "ABX9TyNstJNKj2cF+IZiHumK39eH",
      "include_colab_link": true
    },
    "kernelspec": {
      "name": "python3",
      "display_name": "Python 3"
    },
    "language_info": {
      "name": "python"
    }
  },
  "cells": [
    {
      "cell_type": "markdown",
      "metadata": {
        "id": "view-in-github",
        "colab_type": "text"
      },
      "source": [
        "<a href=\"https://colab.research.google.com/github/hincz-lab/motion-blur-microscopy/blob/main/Training_Material/Label_And_Layer_Masks/Training_Mask_Label_And_Layer.ipynb\" target=\"_parent\"><img src=\"https://colab.research.google.com/assets/colab-badge.svg\" alt=\"Open In Colab\"/></a>"
      ]
    },
    {
      "cell_type": "markdown",
      "source": [
        "#Introduction"
      ],
      "metadata": {
        "id": "TyGgR1BbXivL"
      }
    },
    {
      "cell_type": "markdown",
      "source": [
        "This code can be used to take a fully colored mask, and create a labeled mask, as well as a labeled and layered mask, which can be used for training our SN. To begin, let's clone a github repository to work in.\n",
        "\n",
        "You will need to go into the next block of code by double clicking the \"Show Code\" button underneath the \"Clone Github Repository\" header. Please replace the code <token> with your personal access token. \n",
        "\n",
        "To generate a personal access token, in Github, click on your icon at the top right and choose settings, then click on developer settings, and finally, create a personal access token. So, its settings -> Developer Settings -> Personal Access Token (Classic).\n",
        "\n",
        "After cloning the repository, you can see the repository in the \"Files\" section of Colab, located on the left-hand side of the screen."
      ],
      "metadata": {
        "id": "bstuucSoXoaZ"
      }
    },
    {
      "cell_type": "code",
      "execution_count": null,
      "metadata": {
        "colab": {
          "base_uri": "https://localhost:8080/"
        },
        "cellView": "form",
        "id": "1ecbVBeVXVjQ",
        "outputId": "12123bfa-f28c-427c-bd20-3f623f31424e"
      },
      "outputs": [
        {
          "output_type": "stream",
          "name": "stdout",
          "text": [
            "Cloning into 'motion-blur-microscopy'...\n",
            "remote: Enumerating objects: 397, done.\u001b[K\n",
            "remote: Counting objects: 100% (252/252), done.\u001b[K\n",
            "remote: Compressing objects: 100% (196/196), done.\u001b[K\n",
            "remote: Total 397 (delta 110), reused 124 (delta 54), pack-reused 145\u001b[K\n",
            "Receiving objects: 100% (397/397), 45.23 MiB | 15.92 MiB/s, done.\n",
            "Resolving deltas: 100% (157/157), done.\n",
            "Checking out files: 100% (59/59), done.\n"
          ]
        }
      ],
      "source": [
        "#@title Clone Github Repository\n",
        "!git clone https://<token>@github.com/hincz-lab/motion-blur-microscopy.git"
      ]
    },
    {
      "cell_type": "markdown",
      "source": [
        "Next, we will import any packages and libraries we need for this document."
      ],
      "metadata": {
        "id": "5XiNDqllYM0-"
      }
    },
    {
      "cell_type": "code",
      "source": [
        "#@title Import Packages And Libraries\n",
        "import cv2 as cv2\n",
        "import matplotlib.pyplot as plt\n",
        "import numpy as np\n",
        "import os as os\n",
        "from tensorflow.keras.utils import to_categorical"
      ],
      "metadata": {
        "cellView": "form",
        "id": "zdPN-KNRYSl6"
      },
      "execution_count": null,
      "outputs": []
    },
    {
      "cell_type": "markdown",
      "source": [
        "Now we we will convert the fully colored masks into a labeled version, and a layered and labeled version. To begin this process, first upload any fully colored masks or video frames to the directory **motion-blur-microscopy -> Training_Material -> Label_And_Layer_Mask -> Full_Masks**.\n",
        "\n",
        "Next, you can run the following block of code to generate the labeled and the labeled and layered masks. \n",
        "\n",
        "Note, you will need to open the code in the following block by clicking \"show code\" and adjust the *adhered_Color* variable. The adhered color variable corresponds to the color you used for labeling your adhered regions in the full mask. The color is reported as an [R,G,B], or [Red, Green, Blue] code. Each value should be a decimal between 0 and 1, where 0 means none of the color, and 1 means all of the color."
      ],
      "metadata": {
        "id": "zJKSXtKXfw9J"
      }
    },
    {
      "cell_type": "code",
      "source": [
        "#@title Label And Layer Masks\n",
        "\n",
        "full_Mask_Path = \"motion-blur-microscopy/Training_Material/Label_And_Layer_Masks/Full_Masks/\"\n",
        "labeled_Mask_Path = \"motion-blur-microscopy/Training_Material/Label_And_Layer_Masks/Labeled_Masks/\"\n",
        "labeled_And_Layered_Mask_Path = \"motion-blur-microscopy/Training_Material/Label_And_Layer_Masks/Labeled_And_Layered_Masks/\"\n",
        "\n",
        "if '.ipynb_checkpoints' in os.listdir(full_Mask_Path):\n",
        "  os.rmdir(full_Mask_Path + \".ipynb_checkpoints\")\n",
        "\n",
        "if '.ipynb_checkpoints' in os.listdir(full_Mask_Path):\n",
        "  os.rmdir(full_Mask_Path + \".ipynb_checkpoints\")\n",
        "\n",
        "if '.ipynb_checkpoints' in os.listdir(labeled_Mask_Path):\n",
        "  os.rmdir(labeled_Mask_Path + \".ipynb_checkpoints\")\n",
        "\n",
        "\n",
        "for file_Name in os.listdir(full_Mask_Path):\n",
        "    if file_Name == \"blank\":\n",
        "      os.remove(full_Mask_Path + file_Name)\n",
        "      continue\n",
        "    full_Mask = plt.imread(full_Mask_Path + file_Name)[:,:,0:3]\n",
        "    mask_Height, mask_Width, channels = np.shape(full_Mask)\n",
        "    labeled_Mask = np.zeros((mask_Height,mask_Width))\n",
        "\n",
        "    adhered_Color = [0,1,0]\n",
        "    background_Color = [0,0,0]\n",
        "\n",
        "    for i in range(mask_Height):\n",
        "        for j in range(mask_Width):\n",
        "            if all(full_Mask[i,j] == adhered_Color):\n",
        "                labeled_Mask[i,j] = 1\n",
        "                continue\n",
        "            else:\n",
        "                labeled_Mask[i,j] = 0     \n",
        "    labeled_Layered_Mask = to_categorical(labeled_Mask)\n",
        "    labeled_Layered_Mask = labeled_Layered_Mask.copy()[:,:,0:2]\n",
        "    \n",
        "    plt.imsave(labeled_Mask_Path + file_Name.replace(\"Full\",\"Labeled\"),labeled_Mask)\n",
        "    np.save(labeled_And_Layered_Mask_Path + file_Name.replace(\"Full\",\"Labeled_And_Layered\").replace(\".png\",\"\"),labeled_Layered_Mask)\n",
        "\n",
        "for file_Name in os.listdir(labeled_Mask_Path):\n",
        "    if file_Name == \"blank\":\n",
        "      os.remove(labeled_Mask_Path + file_Name)\n",
        "      continue\n",
        "\n",
        "for file_Name in os.listdir(labeled_And_Layered_Mask_Path):\n",
        "    if file_Name == \"blank\":\n",
        "      os.remove(labeled_And_Layered_Mask_Path + file_Name)\n",
        "      continue"
      ],
      "metadata": {
        "cellView": "form",
        "id": "oTcaXvYcqGVf"
      },
      "execution_count": null,
      "outputs": []
    },
    {
      "cell_type": "markdown",
      "source": [
        "The \"labeled\" masks, or the masks with pixels labeled as either 0 or 1, can be found in the directory **motion-blur-microscopy -> Training_Material -> Label_And_Layer_Masks -> Labeled_Masks**, while the layered masks can be found in the directory **motion-blur-microscopy -> Training_Material -> Label_And_Layer_Masks -> Labeled_And_Layered_Masks**."
      ],
      "metadata": {
        "id": "7eLxPpFsrqmw"
      }
    }
  ]
}