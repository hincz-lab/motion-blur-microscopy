{
  "nbformat": 4,
  "nbformat_minor": 0,
  "metadata": {
    "colab": {
      "provenance": [],
      "authorship_tag": "ABX9TyPfBYlHrGN/AOi+FfMzDHh+",
      "include_colab_link": true
    },
    "kernelspec": {
      "name": "python3",
      "display_name": "Python 3"
    },
    "language_info": {
      "name": "python"
    }
  },
  "cells": [
    {
      "cell_type": "markdown",
      "metadata": {
        "id": "view-in-github",
        "colab_type": "text"
      },
      "source": [
        "<a href=\"https://colab.research.google.com/github/hincz-lab/motion-blur-microscopy/blob/main/Training_Material/Complete_Mask_Coloring/Training_Mask_Color_Completion.ipynb\" target=\"_parent\"><img src=\"https://colab.research.google.com/assets/colab-badge.svg\" alt=\"Open In Colab\"/></a>"
      ]
    },
    {
      "cell_type": "markdown",
      "source": [
        "# Introduction"
      ],
      "metadata": {
        "id": "811BCpj3jggy"
      }
    },
    {
      "cell_type": "markdown",
      "source": [
        "This code is used to complete a partially colored mask of an MBM image or series of MBM images/frames. To use this code effectively, you should have a partially colored mask, or set of masks, where all of the adhered objects are colored a singular color. The background does not have to be colored, as this code will transform all non-adhered pixels to the color black.\n",
        "\n",
        "First, we will run the following block of code to clone a repository from github.\n",
        "\n",
        "You will need to go into the next block of code by double clicking the \"Show Code\" button underneath the \"Clone Github Repository\" header. Please replace the code <token> with your personal access token. \n",
        "\n",
        "To generate a personal access token, in Github, click on your icon at the top right and choose settings, then click on developer settings, and finally, create a personal access token. So, its settings -> Developer Settings -> Personal Access Token (Classic).\n",
        "\n",
        "After cloning the repository, you can see the repository in the \"Files\" section of Colab, located on the left-hand side of the screen."
      ],
      "metadata": {
        "id": "wU7kAAJqjjmp"
      }
    },
    {
      "cell_type": "code",
      "execution_count": null,
      "metadata": {
        "colab": {
          "base_uri": "https://localhost:8080/"
        },
        "cellView": "form",
        "id": "GNSHk-8biRJy",
        "outputId": "87209909-0893-49aa-f6ac-d98676543ba7"
      },
      "outputs": [
        {
          "output_type": "stream",
          "name": "stdout",
          "text": [
            "Cloning into 'motion-blur-microscopy'...\n",
            "remote: Enumerating objects: 357, done.\u001b[K\n",
            "remote: Counting objects: 100% (212/212), done.\u001b[K\n",
            "remote: Compressing objects: 100% (156/156), done.\u001b[K\n",
            "remote: Total 357 (delta 89), reused 124 (delta 54), pack-reused 145\u001b[K\n",
            "Receiving objects: 100% (357/357), 45.22 MiB | 18.79 MiB/s, done.\n",
            "Resolving deltas: 100% (136/136), done.\n"
          ]
        }
      ],
      "source": [
        "#@title Clone Github Repository\n",
        "!git clone https://<token>@github.com/hincz-lab/motion-blur-microscopy.git"
      ]
    },
    {
      "cell_type": "markdown",
      "source": [
        "And the next block of code to import packages and libraries we need for this code."
      ],
      "metadata": {
        "id": "6cj5P0GpnkUA"
      }
    },
    {
      "cell_type": "code",
      "source": [
        "#@title Import Packages And Libraries\n",
        "import cv2 as cv2\n",
        "import matplotlib.pyplot as plt\n",
        "import numpy as np\n",
        "import os as os"
      ],
      "metadata": {
        "cellView": "form",
        "id": "WbMQUrxjjc29"
      },
      "execution_count": null,
      "outputs": []
    },
    {
      "cell_type": "markdown",
      "source": [
        "Now we can complete the process. First, you will want to **manually upload** any partial masks you want to complete to the directory located at **motion-blur-microscopy ->  Training_Material -> Complete_Mask_Coloring -> Partial_Masks**. Then, to complete the partial masks, you can run the following block of code to fill in the background.\n",
        "\n",
        "Note, you should click \"show code\" in the following block, because you will need to adjust the *adhered color* variable. To do this, just change the numbers inside the brackets [] to match the color you used to manually color adhered regions. The format is [Red,Green,Blue], as a decimal between 0-1. 0 means none of that color, 1 means all of that color."
      ],
      "metadata": {
        "id": "X1-8nGpikTu3"
      }
    },
    {
      "cell_type": "code",
      "source": [
        "#@title Complete Partial Masks\n",
        "partial_Mask_Path = \"motion-blur-microscopy/Training_Material/Complete_Mask_Coloring/Partial_Masks/\"\n",
        "full_Mask_Path = \"motion-blur-microscopy/Training_Material/Complete_Mask_Coloring/Full_Masks/\"\n",
        "\n",
        "if '.ipynb_checkpoints' in os.listdir(partial_Mask_Path):\n",
        "  os.rmdir(partial_Mask_Path + \".ipynb_checkpoints\")\n",
        "\n",
        "if '.ipynb_checkpoints' in os.listdir(full_Mask_Path):\n",
        "  os.rmdir(full_Mask_Path + \".ipynb_checkpoints\")\n",
        "\n",
        "for file_Name in os.listdir(partial_Mask_Path):\n",
        "    if file_Name == \"blank\":\n",
        "      os.remove(partial_Mask_Path + file_Name)\n",
        "      continue\n",
        "    partial_Mask = plt.imread(partial_Mask_Path + file_Name)[:,:,0:3]\n",
        "    full_Mask = partial_Mask.copy()\n",
        "    mask_Height, mask_Width, channels = np.shape(partial_Mask)\n",
        "\n",
        "\n",
        "    # (R,G,B) format\n",
        "    adhered_Color = [1,1,1]\n",
        "    background_Color = [0,0,0]\n",
        "\n",
        "    for i in range(mask_Height):\n",
        "        for j in range(mask_Width):\n",
        "            if all(partial_Mask[i,j] == adhered_Color):\n",
        "                full_Mask[i,j] = adhered_Color\n",
        "                continue\n",
        "            else:\n",
        "                full_Mask[i,j] = background_Color      \n",
        "    plt.imsave(full_Mask_Path + file_Name.replace(\"Partial\",\"Full\"),full_Mask)\n",
        "\n",
        "for file_Name in os.listdir(full_Mask_Path):\n",
        "    if file_Name == \"blank\":\n",
        "      os.remove(full_Mask_Path + file_Name)"
      ],
      "metadata": {
        "cellView": "form",
        "id": "XvhJmctQkT1Z"
      },
      "execution_count": null,
      "outputs": []
    },
    {
      "cell_type": "markdown",
      "source": [
        "All of the completed masks will be saved in the directory **motion-blur-microscopy -> Training_Material -> Complete_Mask_Coloring -> Full_Masks**. If you named your partial masks with the word \"partial\" in them, then the full masks will be saved with every instance of \"partial\" switched to \"full\". "
      ],
      "metadata": {
        "id": "YboC4DUDqpbp"
      }
    }
  ]
}