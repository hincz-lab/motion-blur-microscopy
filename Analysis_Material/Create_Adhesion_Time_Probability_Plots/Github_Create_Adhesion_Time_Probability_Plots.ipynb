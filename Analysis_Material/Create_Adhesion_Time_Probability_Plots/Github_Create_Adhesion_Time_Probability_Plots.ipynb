{
 "cells": [
  {
   "cell_type": "markdown",
   "id": "33f0d342",
   "metadata": {},
   "source": [
    "### Run the following code to import any libraries or packages required to run the rest of the script."
   ]
  },
  {
   "cell_type": "code",
   "execution_count": 1,
   "id": "correct-tissue",
   "metadata": {},
   "outputs": [],
   "source": [
    "import matplotlib.pyplot as plt\n",
    "import numpy as np\n",
    "import pandas as pd\n",
    "import os as os"
   ]
  },
  {
   "cell_type": "markdown",
   "id": "20dea91e",
   "metadata": {},
   "source": [
    "### Run the following chunk of code to generate adhesion time probability plots.\n",
    "\n",
    "The user will need to adjust the base_Directory variable, and pay careful attention to the directory structure of the rest of the script."
   ]
  },
  {
   "cell_type": "code",
   "execution_count": 2,
   "id": "demographic-cabin",
   "metadata": {},
   "outputs": [
    {
     "data": {
      "image/png": "[encoded data removed]",
      "text/plain": [
       "<Figure size 432x288 with 1 Axes>"
      ]
     },
     "metadata": {
      "needs_background": "light"
     },
     "output_type": "display_data"
    }
   ],
   "source": [
    "base_Directory = \"\"\n",
    "\n",
    "dynamic_Data = pd.read_csv(base_Directory + \"Analysis/Video_Data/Dynamics_Data.csv\")\n",
    "\n",
    "seconds_Per_Frame = 1.2\n",
    "attached_Frames = (dynamic_Data[\"Frame Detached\"] - dynamic_Data[\"Frame Attached\"]) + 1\n",
    "attached_Times = attached_Frames*seconds_Per_Frame\n",
    "\n",
    "number_Of_Bins = 25\n",
    "time_Bin_Spacing_Log = (np.log10(2000) - np.log10(1))/(number_Of_Bins)\n",
    "time_Bins_Log = np.arange(np.log10(1),np.log10(2000) + time_Bin_Spacing_Log,time_Bin_Spacing_Log)\n",
    "probability_Weights_Time = np.ones_like(attached_Times) / len(attached_Times)\n",
    "\n",
    "fig, ax = plt.subplots()\n",
    "\n",
    "N, bins, patches = ax.hist(attached_Times,facecolor = \"none\", edgecolor = \"none\", bins = 10**time_Bins_Log, weights = probability_Weights_Time)\n",
    "bin_Centers = (bins[:-1] + bins[1:]) / 2\n",
    "zero_Indices = [i for i, e in enumerate(N) if e == 0]\n",
    "new_bin_Centers = np.delete(bin_Centers,zero_Indices)\n",
    "new_N = np.delete(N,zero_Indices)\n",
    "plt.ylabel(\"Probability\")\n",
    "plt.xlabel(\"Adhesion Time (s)\")\n",
    "plt.title(\"Adhesion Time Probability Plot\")\n",
    "plt.scatter(new_bin_Centers,new_N, facecolor = \"blue\", edgecolor = \"blue\", alpha = 0.5)\n",
    "plt.ylim(10**-4,10**0)\n",
    "plt.xlim(1,2000)\n",
    "x_Values = np.linspace(1,1001,1001)\n",
    "plt.yscale(\"log\")\n",
    "plt.xscale(\"log\")\n",
    "plt.savefig(base_Directory + \"Analysis/Outputs/Adhesion_Time_Probability_Plot.png\")\n",
    "plt.savefig(base_Directory + \"Analysis/Outputs/Adhesion_Time_Probability_Plot.svg\")\n",
    "plt.show()"
   ]
  },
  {
   "cell_type": "code",
   "execution_count": null,
   "id": "4bc33c9d",
   "metadata": {},
   "outputs": [],
   "source": []
  }
 ],
 "metadata": {
  "kernelspec": {
   "display_name": "Python 3 (ipykernel)",
   "language": "python",
   "name": "python3"
  },
  "language_info": {
   "codemirror_mode": {
    "name": "ipython",
    "version": 3
   },
   "file_extension": ".py",
   "mimetype": "text/x-python",
   "name": "python",
   "nbconvert_exporter": "python",
   "pygments_lexer": "ipython3",
   "version": "3.9.15"
  }
 },
 "nbformat": 4,
 "nbformat_minor": 5
}
