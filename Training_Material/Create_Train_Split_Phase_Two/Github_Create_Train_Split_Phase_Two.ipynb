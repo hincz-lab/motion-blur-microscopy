{
 "cells": [
  {
   "cell_type": "markdown",
   "id": "7ca580e9",
   "metadata": {},
   "source": [
    "### Run the following chunk of code to import any libraries or packages needed for the rest of the script."
   ]
  },
  {
   "cell_type": "code",
   "execution_count": 1,
   "id": "radio-think",
   "metadata": {},
   "outputs": [],
   "source": [
    "import os as os\n",
    "import random as random\n",
    "import matplotlib.pyplot as plt\n",
    "import numpy as np"
   ]
  },
  {
   "cell_type": "markdown",
   "id": "e1741606",
   "metadata": {},
   "source": [
    "### Run the following chunk of code to split the manually labeled cells/others into training, validation, and testing splits.\n",
    "\n",
    "The user will need to adjust the base_Directory variable, and take careful note of the directory organization of this script."
   ]
  },
  {
   "cell_type": "code",
   "execution_count": 2,
   "id": "vertical-biology",
   "metadata": {},
   "outputs": [],
   "source": [
    "base_Directory = \"\"\n",
    "original_Cart_Directory = base_Directory + \"Raw_Training_Cells_Categorized/Car_T/\"\n",
    "original_Other_Directory = base_Directory + \"Raw_Training_Cells_Categorized/Other/\"\n",
    "randomized_Names_Cart = os.listdir(original_Cart_Directory)\n",
    "randomized_Names_Other = os.listdir(original_Other_Directory)\n",
    "random.shuffle(randomized_Names_Cart)\n",
    "random.shuffle(randomized_Names_Other)\n",
    "\n",
    "train_Split = 0.7\n",
    "validate_Split = 0.2\n",
    "test_Split = 0.1\n",
    "for i in range(len(randomized_Names_Cart)):\n",
    "    if i < int(len(randomized_Names_Cart)*train_Split):\n",
    "        current_Image = plt.imread(original_Cart_Directory + randomized_Names_Cart[i])[:,:,0:3]\n",
    "        plt.imsave(base_Directory + \"Raw_Training_Cells_Train_Split/Train/Car_T/\" + randomized_Names_Cart[i],current_Image)\n",
    "    elif (i >= int(len(randomized_Names_Cart)*train_Split)) and i < (int(len(randomized_Names_Cart)*train_Split) + int(len(randomized_Names_Cart)*validate_Split)):\n",
    "        current_Image = plt.imread(original_Cart_Directory + randomized_Names_Cart[i])[:,:,0:3]\n",
    "        plt.imsave(base_Directory + \"Raw_Training_Cells_Train_Split/Validate/Car_T/\" + randomized_Names_Cart[i],current_Image)       \n",
    "    else:\n",
    "        current_Image = plt.imread(original_Cart_Directory + randomized_Names_Cart[i])[:,:,0:3]\n",
    "        plt.imsave(base_Directory + \"Raw_Training_Cells_Train_Split/Test/Car_T/\" + randomized_Names_Cart[i],current_Image)\n",
    "        \n",
    "for i in range(len(randomized_Names_Other)):\n",
    "    if i < int(len(randomized_Names_Other)*train_Split):\n",
    "        current_Image = plt.imread(original_Other_Directory + randomized_Names_Other[i])[:,:,0:3]\n",
    "        plt.imsave(base_Directory + \"Raw_Training_Cells_Train_Split/Train/Other/\" + randomized_Names_Other[i],current_Image)\n",
    "    elif (i >= int(len(randomized_Names_Other)*train_Split)) and i < (int(len(randomized_Names_Other)*train_Split) + int(len(randomized_Names_Other)*validate_Split)):\n",
    "        current_Image = plt.imread(original_Other_Directory + randomized_Names_Other[i])[:,:,0:3]\n",
    "        plt.imsave(base_Directory + \"Raw_Training_Cells_Train_Split/Validate/Other/\" + randomized_Names_Other[i],current_Image)   \n",
    "    else:\n",
    "        current_Image = plt.imread(original_Other_Directory + randomized_Names_Other[i])[:,:,0:3]\n",
    "        plt.imsave(base_Directory + \"Raw_Training_Cells_Train_Split/Test/Other/\" + randomized_Names_Other[i],current_Image)"
   ]
  },
  {
   "cell_type": "code",
   "execution_count": null,
   "id": "bd647b47",
   "metadata": {},
   "outputs": [],
   "source": []
  }
 ],
 "metadata": {
  "kernelspec": {
   "display_name": "Python 3 (ipykernel)",
   "language": "python",
   "name": "python3"
  },
  "language_info": {
   "codemirror_mode": {
    "name": "ipython",
    "version": 3
   },
   "file_extension": ".py",
   "mimetype": "text/x-python",
   "name": "python",
   "nbconvert_exporter": "python",
   "pygments_lexer": "ipython3",
   "version": "3.9.15"
  }
 },
 "nbformat": 4,
 "nbformat_minor": 5
}
