{
 "cells": [
  {
   "cell_type": "markdown",
   "id": "a3ffc6db",
   "metadata": {},
   "source": [
    "#### Run the following chunk of code to import needed libraries to run this code."
   ]
  },
  {
   "cell_type": "code",
   "execution_count": 2,
   "id": "threaded-institution",
   "metadata": {},
   "outputs": [],
   "source": [
    "# Importing Relevant Packages.\n",
    "import matplotlib.pyplot as plt\n",
    "import numpy as np\n",
    "import os as os"
   ]
  },
  {
   "cell_type": "markdown",
   "id": "78d8d008",
   "metadata": {},
   "source": [
    "#### Run the following chunk of code to generate fully colored masks from partially colored masks.\n",
    "\n",
    "You will need to adjust the partial_Mask_Path, full_Mask_Path, adhered_Color, and background_Color to match your directory locations and desired color scheme for adhered/background."
   ]
  },
  {
   "cell_type": "code",
   "execution_count": 4,
   "id": "classified-partition",
   "metadata": {},
   "outputs": [],
   "source": [
    "partial_Mask_Path = \"\"\n",
    "full_Mask_Path = \"\"\n",
    "\n",
    "for file_Name in os.listdir(partial_Mask_Path):\n",
    "    partial_Mask = plt.imread(partial_Mask_Path + file_Name)[:,:,0:3]\n",
    "    full_Mask = partial_Mask.copy()\n",
    "    mask_Height, mask_Width, channels = np.shape(partial_Mask)\n",
    "\n",
    "    adhered_Color = [0,1,0]\n",
    "    background_Color = [0,0,0]\n",
    "\n",
    "    for i in range(mask_Height):\n",
    "        for j in range(mask_Width):\n",
    "            if all(partial_Mask[i,j] == adhered_Color):\n",
    "                full_Mask[i,j] = adhered_Color\n",
    "                continue\n",
    "            else:\n",
    "                full_Mask[i,j] = background_Color      \n",
    "    plt.imsave(full_Mask_Path + file_Name.replace(\"Partial\",\"Full\"),full_Mask)"
   ]
  },
  {
   "cell_type": "code",
   "execution_count": null,
   "id": "crazy-enhancement",
   "metadata": {},
   "outputs": [],
   "source": []
  }
 ],
 "metadata": {
  "kernelspec": {
   "display_name": "Python 3 (ipykernel)",
   "language": "python",
   "name": "python3"
  },
  "language_info": {
   "codemirror_mode": {
    "name": "ipython",
    "version": 3
   },
   "file_extension": ".py",
   "mimetype": "text/x-python",
   "name": "python",
   "nbconvert_exporter": "python",
   "pygments_lexer": "ipython3",
   "version": "3.9.15"
  }
 },
 "nbformat": 4,
 "nbformat_minor": 5
}
