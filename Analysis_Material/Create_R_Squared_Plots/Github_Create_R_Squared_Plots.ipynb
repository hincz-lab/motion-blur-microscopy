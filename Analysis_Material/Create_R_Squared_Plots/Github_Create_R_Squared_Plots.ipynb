{
 "cells": [
  {
   "cell_type": "markdown",
   "id": "27143d6f",
   "metadata": {},
   "source": [
    "### Run the following chunk of code to import any libraries or packages required to run the rest of the script."
   ]
  },
  {
   "cell_type": "code",
   "execution_count": 2,
   "id": "going-scroll",
   "metadata": {},
   "outputs": [],
   "source": [
    "import pandas as pd\n",
    "import numpy as np\n",
    "import matplotlib.pyplot as plt\n",
    "from sklearn.metrics import r2_score"
   ]
  },
  {
   "cell_type": "markdown",
   "id": "35224f79",
   "metadata": {},
   "source": [
    "### Run the following chunk of code to generate the R-Squared plot which measures the accuracy of the automated counting procedure relative to manual counts.\n",
    "\n",
    "The user will need to adjust the base_Directory variable, as well as pay careful attetion to the directory structure of the script."
   ]
  },
  {
   "cell_type": "code",
   "execution_count": 13,
   "id": "pediatric-guarantee",
   "metadata": {},
   "outputs": [
    {
     "data": {
      "image/png": "[encoded data removed]",
      "text/plain": [
       "<Figure size 432x288 with 1 Axes>"
      ]
     },
     "metadata": {
      "needs_background": "light"
     },
     "output_type": "display_data"
    }
   ],
   "source": [
    "base_Directory = \"\"\n",
    "manual_Document = pd.read_csv(base_Directory + \"Analysis/Manual_Counts/Counts.csv\").sort_values(\"File Name\", ignore_index = True)\n",
    "automated_Document = pd.read_csv(base_Directory + \"Analysis/Automated_Counts/Counts.csv\").sort_values(\"File Name\",ignore_index = True)\n",
    "\n",
    "manual_Names = manual_Document[\"File Name\"]\n",
    "automated_Names = automated_Document[\"File Name\"]\n",
    "\n",
    "manual_Counts = []\n",
    "automated_Counts = []\n",
    "for i in range(len(automated_Document[\"Counts\"])):\n",
    "    for j in range(len(manual_Document[\"Counts\"])):\n",
    "        if automated_Names[i] == manual_Names[j]:\n",
    "            automated_Counts.append(automated_Document[\"Counts\"][i])\n",
    "            manual_Counts.append(manual_Document[\"Counts\"][j])\n",
    "            \n",
    "limit = 1.1*np.max(automated_Counts)\n",
    "\n",
    "plt.figure()\n",
    "plt.gca().set_aspect('equal')\n",
    "line_Values = np.linspace(0,limit,1001)\n",
    "plt.scatter(manual_Counts,automated_Counts, color = \"blue\", alpha = 0.5)\n",
    "plt.xlim(0,limit)\n",
    "plt.ylim(0,limit)\n",
    "plt.plot(line_Values,line_Values, color = \"black\", lw = \"2\")\n",
    "plt.text(limit*0.1,limit*0.9, r'$R^{2} \\approx $' + str(np.round(r2_score(manual_Counts,automated_Counts),2)))\n",
    "plt.title(\"Human Vs. ML Counts Comparison\")\n",
    "plt.xlabel(\"Human Counts\")\n",
    "plt.ylabel(\"ML Counts\")\n",
    "plt.savefig(base_Directory + \"Analysis/Outputs/Counts.png\")\n",
    "plt.savefig(base_Directory + \"Analysis/Outputs/Counts.svg\")\n",
    "plt.show()"
   ]
  },
  {
   "cell_type": "code",
   "execution_count": null,
   "id": "4c04a8ce",
   "metadata": {},
   "outputs": [],
   "source": []
  }
 ],
 "metadata": {
  "kernelspec": {
   "display_name": "Python 3 (ipykernel)",
   "language": "python",
   "name": "python3"
  },
  "language_info": {
   "codemirror_mode": {
    "name": "ipython",
    "version": 3
   },
   "file_extension": ".py",
   "mimetype": "text/x-python",
   "name": "python",
   "nbconvert_exporter": "python",
   "pygments_lexer": "ipython3",
   "version": "3.9.15"
  }
 },
 "nbformat": 4,
 "nbformat_minor": 5
}
