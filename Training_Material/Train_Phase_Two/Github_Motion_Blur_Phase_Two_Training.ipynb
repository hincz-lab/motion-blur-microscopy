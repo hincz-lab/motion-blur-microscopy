{
 "cells": [
  {
   "cell_type": "markdown",
   "id": "691ff0cc",
   "metadata": {},
   "source": [
    "### Run the following chunk of code to import any libraries and packages required to run the rest of the script."
   ]
  },
  {
   "cell_type": "code",
   "execution_count": 1,
   "id": "physical-irish",
   "metadata": {},
   "outputs": [],
   "source": [
    "import tensorflow as tf\n",
    "from tensorflow import keras\n",
    "from tensorflow.keras.models import Sequential\n",
    "from tensorflow.keras.layers import Dense, Flatten\n",
    "from tensorflow.keras.preprocessing.image import ImageDataGenerator\n",
    "from tensorflow.keras.applications.vgg16 import VGG16\n",
    "from tensorflow.keras.applications.vgg16 import preprocess_input\n",
    "from tensorflow.keras import layers,models\n",
    "from tensorflow.keras.callbacks import ModelCheckpoint, EarlyStopping"
   ]
  },
  {
   "cell_type": "markdown",
   "id": "6d5d9f05",
   "metadata": {},
   "source": [
    "### Run the following chunk of code to generate the architecture used for the phase two classification network.\n",
    "\n",
    "Here we are using a VGG16 architecture with pre-trained weights on the imagenet dataset. This transfer learning approach greatly reduces the required training data input on our end."
   ]
  },
  {
   "cell_type": "code",
   "execution_count": 2,
   "id": "compressed-enough",
   "metadata": {},
   "outputs": [],
   "source": [
    "## Loading VGG16 model\n",
    "base_model = VGG16(weights=\"imagenet\", include_top=False, input_shape=(40,40,3))\n",
    "base_model.trainable = False ## Not trainable weights\n",
    "\n",
    "flatten_layer = layers.Flatten()\n",
    "dense_layer_1 = layers.Dense(16, activation='relu')\n",
    "dense_layer_2 = layers.Dense(8, activation='relu')\n",
    "dense_layer_3 = layers.Dense(4, activation='relu')\n",
    "prediction_layer = layers.Dense(2, activation='softmax')\n",
    "\n",
    "model = models.Sequential([\n",
    "    base_model,\n",
    "    flatten_layer,\n",
    "    dense_layer_1,\n",
    "    dense_layer_2,\n",
    "    dense_layer_3,\n",
    "    prediction_layer\n",
    "])"
   ]
  },
  {
   "cell_type": "markdown",
   "id": "836ee826",
   "metadata": {},
   "source": [
    "### Run the following code to create the data generators, which will read in the training and testing data in batches.\n",
    "\n",
    "The user will need to change the directory tag in the traindata and testdata variables to match the location of their. Please the possible confusion of names here, when we use test in the code, we really mean validate."
   ]
  },
  {
   "cell_type": "code",
   "execution_count": 3,
   "id": "atmospheric-hepatitis",
   "metadata": {},
   "outputs": [
    {
     "name": "stdout",
     "output_type": "stream",
     "text": [
      "Found 6180 images belonging to 2 classes.\n",
      "Found 1765 images belonging to 2 classes.\n"
     ]
    }
   ],
   "source": [
    "trdata = ImageDataGenerator(    featurewise_center=False, samplewise_center=False,\n",
    "    featurewise_std_normalization=False, samplewise_std_normalization=False,\n",
    "    zca_whitening=False, zca_epsilon=1e-06, rotation_range=0, width_shift_range=0.0,\n",
    "    height_shift_range=0.0, brightness_range=None, shear_range=0.0, zoom_range=0.0,\n",
    "    channel_shift_range=0.0, fill_mode='nearest', cval=0.0,\n",
    "    horizontal_flip=True, vertical_flip=True, rescale=None,\n",
    "    preprocessing_function=preprocess_input, data_format=None, validation_split=0.0, dtype=None)\n",
    "traindata = trdata.flow_from_directory(directory=\"\",target_size=(40,40))\n",
    "\n",
    "tsdata = ImageDataGenerator(    featurewise_center=False, samplewise_center=False,\n",
    "    featurewise_std_normalization=False, samplewise_std_normalization=False,\n",
    "    zca_whitening=False, zca_epsilon=1e-06, rotation_range=0, width_shift_range=0.0,\n",
    "    height_shift_range=0.0, brightness_range=None, shear_range=0.0, zoom_range=0.0,\n",
    "    channel_shift_range=0.0, fill_mode='nearest', cval=0.0,\n",
    "    horizontal_flip=True, vertical_flip=True, rescale=None,\n",
    "    preprocessing_function=preprocess_input, data_format=None, validation_split=0.0, dtype=None)\n",
    "testdata = tsdata.flow_from_directory(directory=\"\",target_size=(40,40))"
   ]
  },
  {
   "cell_type": "markdown",
   "id": "65197cfa",
   "metadata": {},
   "source": [
    "### Run the following code to train the pre-built VGG16 architecture and weights to classify cells in our problem.\n",
    "\n",
    "The user may need to change the class_weight variable, to account for any particular class imbalances in your dataset."
   ]
  },
  {
   "cell_type": "code",
   "execution_count": 4,
   "id": "higher-treasurer",
   "metadata": {
    "scrolled": true
   },
   "outputs": [
    {
     "name": "stdout",
     "output_type": "stream",
     "text": [
      "Epoch 1/1000\n",
      "194/194 [==============================] - ETA: 0s - loss: 6.8983e-05 - accuracy: 0.8764\n",
      "Epoch 1: val_loss improved from inf to 0.16065, saving model to vgg16_1.h5\n",
      "194/194 [==============================] - 27s 133ms/step - loss: 6.8983e-05 - accuracy: 0.8764 - val_loss: 0.1606 - val_accuracy: 0.9394\n",
      "Epoch 2/1000\n",
      "194/194 [==============================] - ETA: 0s - loss: 3.2391e-05 - accuracy: 0.9261\n",
      "Epoch 2: val_loss improved from 0.16065 to 0.13912, saving model to vgg16_1.h5\n",
      "194/194 [==============================] - 26s 133ms/step - loss: 3.2391e-05 - accuracy: 0.9261 - val_loss: 0.1391 - val_accuracy: 0.9496\n",
      "Epoch 3/1000\n",
      "194/194 [==============================] - ETA: 0s - loss: 2.3555e-05 - accuracy: 0.9505\n",
      "Epoch 3: val_loss did not improve from 0.13912\n",
      "194/194 [==============================] - 25s 129ms/step - loss: 2.3555e-05 - accuracy: 0.9505 - val_loss: 0.1400 - val_accuracy: 0.9235\n",
      "Epoch 4/1000\n",
      "194/194 [==============================] - ETA: 0s - loss: 2.0257e-05 - accuracy: 0.9489\n",
      "Epoch 4: val_loss improved from 0.13912 to 0.11832, saving model to vgg16_1.h5\n",
      "194/194 [==============================] - 26s 133ms/step - loss: 2.0257e-05 - accuracy: 0.9489 - val_loss: 0.1183 - val_accuracy: 0.9524\n",
      "Epoch 5/1000\n",
      "194/194 [==============================] - ETA: 0s - loss: 2.2079e-05 - accuracy: 0.9591\n",
      "Epoch 5: val_loss improved from 0.11832 to 0.11623, saving model to vgg16_1.h5\n",
      "194/194 [==============================] - 26s 132ms/step - loss: 2.2079e-05 - accuracy: 0.9591 - val_loss: 0.1162 - val_accuracy: 0.9581\n",
      "Epoch 6/1000\n",
      "194/194 [==============================] - ETA: 0s - loss: 1.8295e-05 - accuracy: 0.9652\n",
      "Epoch 6: val_loss did not improve from 0.11623\n",
      "194/194 [==============================] - 25s 131ms/step - loss: 1.8295e-05 - accuracy: 0.9652 - val_loss: 0.1508 - val_accuracy: 0.9394\n",
      "Epoch 7/1000\n",
      "194/194 [==============================] - ETA: 0s - loss: 1.8848e-05 - accuracy: 0.9613\n",
      "Epoch 7: val_loss improved from 0.11623 to 0.11573, saving model to vgg16_1.h5\n",
      "194/194 [==============================] - 25s 129ms/step - loss: 1.8848e-05 - accuracy: 0.9613 - val_loss: 0.1157 - val_accuracy: 0.9569\n",
      "Epoch 8/1000\n",
      "194/194 [==============================] - ETA: 0s - loss: 1.9595e-05 - accuracy: 0.9636\n",
      "Epoch 8: val_loss improved from 0.11573 to 0.10109, saving model to vgg16_1.h5\n",
      "194/194 [==============================] - 25s 130ms/step - loss: 1.9595e-05 - accuracy: 0.9636 - val_loss: 0.1011 - val_accuracy: 0.9654\n",
      "Epoch 9/1000\n",
      "194/194 [==============================] - ETA: 0s - loss: 1.7345e-05 - accuracy: 0.9631\n",
      "Epoch 9: val_loss did not improve from 0.10109\n",
      "194/194 [==============================] - 25s 129ms/step - loss: 1.7345e-05 - accuracy: 0.9631 - val_loss: 0.1620 - val_accuracy: 0.9292\n",
      "Epoch 10/1000\n",
      "194/194 [==============================] - ETA: 0s - loss: 1.7377e-05 - accuracy: 0.9665\n",
      "Epoch 10: val_loss did not improve from 0.10109\n",
      "194/194 [==============================] - 25s 129ms/step - loss: 1.7377e-05 - accuracy: 0.9665 - val_loss: 0.1565 - val_accuracy: 0.9394\n",
      "Epoch 11/1000\n",
      "194/194 [==============================] - ETA: 0s - loss: 1.7660e-05 - accuracy: 0.9615\n",
      "Epoch 11: val_loss did not improve from 0.10109\n",
      "194/194 [==============================] - 25s 131ms/step - loss: 1.7660e-05 - accuracy: 0.9615 - val_loss: 0.1294 - val_accuracy: 0.9473\n",
      "Epoch 12/1000\n",
      "194/194 [==============================] - ETA: 0s - loss: 1.5902e-05 - accuracy: 0.9652\n",
      "Epoch 12: val_loss did not improve from 0.10109\n",
      "194/194 [==============================] - 25s 130ms/step - loss: 1.5902e-05 - accuracy: 0.9652 - val_loss: 0.1198 - val_accuracy: 0.9649\n",
      "Epoch 13/1000\n",
      "194/194 [==============================] - ETA: 0s - loss: 1.7866e-05 - accuracy: 0.9652\n",
      "Epoch 13: val_loss did not improve from 0.10109\n",
      "194/194 [==============================] - 25s 130ms/step - loss: 1.7866e-05 - accuracy: 0.9652 - val_loss: 0.1483 - val_accuracy: 0.9456\n",
      "Epoch 14/1000\n",
      "194/194 [==============================] - ETA: 0s - loss: 1.6992e-05 - accuracy: 0.9634\n",
      "Epoch 14: val_loss did not improve from 0.10109\n",
      "194/194 [==============================] - 25s 131ms/step - loss: 1.6992e-05 - accuracy: 0.9634 - val_loss: 0.1082 - val_accuracy: 0.9603\n",
      "Epoch 15/1000\n",
      "194/194 [==============================] - ETA: 0s - loss: 1.4179e-05 - accuracy: 0.9712\n",
      "Epoch 15: val_loss did not improve from 0.10109\n",
      "194/194 [==============================] - 25s 131ms/step - loss: 1.4179e-05 - accuracy: 0.9712 - val_loss: 0.1068 - val_accuracy: 0.9592\n",
      "Epoch 16/1000\n",
      "194/194 [==============================] - ETA: 0s - loss: 1.4290e-05 - accuracy: 0.9710\n",
      "Epoch 16: val_loss did not improve from 0.10109\n",
      "194/194 [==============================] - 25s 131ms/step - loss: 1.4290e-05 - accuracy: 0.9710 - val_loss: 0.1180 - val_accuracy: 0.9632\n",
      "Epoch 17/1000\n",
      "194/194 [==============================] - ETA: 0s - loss: 1.4097e-05 - accuracy: 0.9699\n",
      "Epoch 17: val_loss did not improve from 0.10109\n",
      "194/194 [==============================] - 25s 130ms/step - loss: 1.4097e-05 - accuracy: 0.9699 - val_loss: 0.1183 - val_accuracy: 0.9649\n",
      "Epoch 18/1000\n",
      "194/194 [==============================] - ETA: 0s - loss: 1.6117e-05 - accuracy: 0.9681\n",
      "Epoch 18: val_loss did not improve from 0.10109\n",
      "Restoring model weights from the end of the best epoch: 8.\n",
      "194/194 [==============================] - 25s 130ms/step - loss: 1.6117e-05 - accuracy: 0.9681 - val_loss: 0.1023 - val_accuracy: 0.9615\n",
      "Epoch 18: early stopping\n"
     ]
    }
   ],
   "source": [
    "class_weight = {0:1/1028, 1: 1/6917}\n",
    "\n",
    "model.compile(\n",
    "    optimizer='adam',\n",
    "    loss='categorical_crossentropy',\n",
    "    metrics=['accuracy'],\n",
    ")\n",
    "\n",
    "checkpoint = ModelCheckpoint(\"vgg16_1.h5\", monitor='val_loss', verbose=1, save_best_only=True, save_weights_only=False, mode='auto')\n",
    "early = EarlyStopping(monitor='val_loss', min_delta=0, patience=10, verbose=1, mode='auto', restore_best_weights=True)\n",
    "\n",
    "hist = model.fit(traindata, validation_data= testdata,epochs=1000,callbacks=[checkpoint,early],class_weight = class_weight)"
   ]
  },
  {
   "cell_type": "markdown",
   "id": "6a8c4534",
   "metadata": {},
   "source": [
    "### Run the following chunk of code to save the trained network architecture and weights.\n",
    "\n",
    "The user will need to input their own target directory to save the network to."
   ]
  },
  {
   "cell_type": "code",
   "execution_count": 5,
   "id": "joined-single",
   "metadata": {},
   "outputs": [],
   "source": [
    "model.save(\"\")"
   ]
  }
 ],
 "metadata": {
  "kernelspec": {
   "display_name": "Python 3 (ipykernel)",
   "language": "python",
   "name": "python3"
  },
  "language_info": {
   "codemirror_mode": {
    "name": "ipython",
    "version": 3
   },
   "file_extension": ".py",
   "mimetype": "text/x-python",
   "name": "python",
   "nbconvert_exporter": "python",
   "pygments_lexer": "ipython3",
   "version": "3.9.15"
  }
 },
 "nbformat": 4,
 "nbformat_minor": 5
}
