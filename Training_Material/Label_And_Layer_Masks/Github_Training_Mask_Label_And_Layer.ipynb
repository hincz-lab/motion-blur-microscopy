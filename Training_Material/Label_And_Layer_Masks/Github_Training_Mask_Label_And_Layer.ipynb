{
 "cells": [
  {
   "cell_type": "markdown",
   "id": "d709f06a",
   "metadata": {},
   "source": [
    "#### Run the following chunk of code to import any necessary packages or libraries to run the rest of the script."
   ]
  },
  {
   "cell_type": "code",
   "execution_count": 1,
   "id": "threaded-institution",
   "metadata": {},
   "outputs": [],
   "source": [
    "# Importing Relevant Packages.\n",
    "import matplotlib.pyplot as plt\n",
    "import numpy as np\n",
    "import os as os\n",
    "from tensorflow.keras.utils import to_categorical"
   ]
  },
  {
   "cell_type": "markdown",
   "id": "ab79ab6c",
   "metadata": {},
   "source": [
    "#### Run the following chunk of code to convert fully colored masks into label encoded masks, and layered one-hot encoded masks.\n",
    "\n",
    "You may need to adjust the full_Mask_Path, labeled_Mask_Path, labeled_And_Layered_Mask_Path, adhered_Color, and background_Color variables to match your own directory locations for images, as well as to match the color scheme you used for coloring the masks."
   ]
  },
  {
   "cell_type": "code",
   "execution_count": 2,
   "id": "indie-majority",
   "metadata": {},
   "outputs": [],
   "source": [
    "full_Mask_Path = \"\"\n",
    "labeled_Mask_Path = \"\"\n",
    "labeled_And_Layered_Mask_Path = \"\"\n",
    "\n",
    "\n",
    "for file_Name in os.listdir(full_Mask_Path):\n",
    "    full_Mask = plt.imread(full_Mask_Path + file_Name)[:,:,0:3]\n",
    "    mask_Height, mask_Width, channels = np.shape(full_Mask)\n",
    "    labeled_Mask = np.zeros((mask_Height,mask_Width))\n",
    "\n",
    "    adhered_Color = [0,1,0]\n",
    "    background_Color = [0,0,0]\n",
    "\n",
    "    for i in range(mask_Height):\n",
    "        for j in range(mask_Width):\n",
    "            if all(full_Mask[i,j] == adhered_Color):\n",
    "                labeled_Mask[i,j] = 1\n",
    "                continue\n",
    "            else:\n",
    "                labeled_Mask[i,j] = 0     \n",
    "    labeled_Layered_Mask = to_categorical(labeled_Mask)\n",
    "    labeled_Layered_Mask = labeled_Layered_Mask.copy()[:,:,0:2]\n",
    "    \n",
    "    plt.imsave(labeled_Mask_Path + file_Name.replace(\"Full\",\"Labeled\"),labeled_Mask)\n",
    "    np.save(labeled_And_Layered_Mask_Path + file_Name.replace(\"Full\",\"Labeled_And_Layered\").replace(\".png\",\"\"),labeled_Layered_Mask)"
   ]
  },
  {
   "cell_type": "code",
   "execution_count": null,
   "id": "professional-veteran",
   "metadata": {},
   "outputs": [],
   "source": []
  }
 ],
 "metadata": {
  "kernelspec": {
   "display_name": "Python 3 (ipykernel)",
   "language": "python",
   "name": "python3"
  },
  "language_info": {
   "codemirror_mode": {
    "name": "ipython",
    "version": 3
   },
   "file_extension": ".py",
   "mimetype": "text/x-python",
   "name": "python",
   "nbconvert_exporter": "python",
   "pygments_lexer": "ipython3",
   "version": "3.9.15"
  }
 },
 "nbformat": 4,
 "nbformat_minor": 5
}
