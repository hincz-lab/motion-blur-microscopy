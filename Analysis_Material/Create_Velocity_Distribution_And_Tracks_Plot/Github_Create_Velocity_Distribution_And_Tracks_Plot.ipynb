{
 "cells": [
  {
   "cell_type": "markdown",
   "id": "c5d2422f",
   "metadata": {},
   "source": [
    "### Run the following chunk of code to import any libraries or packages necessary for running the rest of the script."
   ]
  },
  {
   "cell_type": "code",
   "execution_count": null,
   "id": "periodic-coupon",
   "metadata": {},
   "outputs": [],
   "source": [
    "import pandas as pd\n",
    "import numpy as np\n",
    "import matplotlib.pyplot as plt\n",
    "import math"
   ]
  },
  {
   "cell_type": "markdown",
   "id": "32f26fe1",
   "metadata": {},
   "source": [
    "### Run the following script to scrub out duplicate cells and interpolate missing frames for adhesion events.\n",
    "\n",
    "The user will need to adjust the base_Directory variable to match their directory structure. "
   ]
  },
  {
   "cell_type": "code",
   "execution_count": null,
   "id": "recognized-simpson",
   "metadata": {},
   "outputs": [],
   "source": [
    "# Scrub out duplicates and interpolate missing frames.\n",
    "\n",
    "base_Directory = \"\"\n",
    "\n",
    "dynamic_Data = pd.read_csv(base_Directory + \"Analysis/Video_Data/Dynamics_Data_Tracks_Control.csv\")\n",
    "\n",
    "dynamic_Data = dynamic_Data.copy().sort_values(by = [\"Cell Number\",\"Frame\"],ignore_index = True)\n",
    "\n",
    "cell_Numbers = dynamic_Data[\"Cell Number\"]\n",
    "\n",
    "unique_Cells = cell_Numbers.unique()\n",
    "\n",
    "dynamic_Data = dynamic_Data.copy().drop_duplicates(subset = [\"Frame\",\"Cell Number\"], keep = \"first\")\n",
    "\n",
    "microns_Per_Pixel = 0.64516129\n",
    "seconds_Per_Frame = 1.2\n",
    "\n",
    "for cell_Number in unique_Cells:\n",
    "    maximum_Frame = max(dynamic_Data[dynamic_Data[\"Cell Number\"] == cell_Number][\"Frame\"])\n",
    "    minimum_Frame = min(dynamic_Data[dynamic_Data[\"Cell Number\"] == cell_Number][\"Frame\"])\n",
    "    adhered_Frames = np.arange(minimum_Frame,maximum_Frame + 1,1)\n",
    "    cell_Data = dynamic_Data[dynamic_Data[\"Cell Number\"] == cell_Number]\n",
    "    found_Frames = cell_Data[\"Frame\"].values.tolist()\n",
    "    if len(found_Frames) == len(adhered_Frames):\n",
    "        if (found_Frames == adhered_Frames).all():\n",
    "            continue\n",
    "        else:\n",
    "            print(cell_Number,\"Miss Equal\")\n",
    "    else:\n",
    "        not_Found_Count = 0\n",
    "        frame_Difference = len(adhered_Frames) - len(found_Frames)\n",
    "        for j in range(len(adhered_Frames)):\n",
    "            if adhered_Frames[j] in found_Frames:\n",
    "                not_Found_Count = 0\n",
    "            else:\n",
    "                not_Found_Count += 1\n",
    "                last_Found_Index = np.where(found_Frames == adhered_Frames[j] - not_Found_Count)[0][0]\n",
    "                dif = found_Frames[last_Found_Index + 1] - adhered_Frames[j] + not_Found_Count\n",
    "                new_Frame = adhered_Frames[j]\n",
    "                final_Vertical_Position = cell_Data[\"Vertical Position\"].values.tolist()[last_Found_Index + 1]\n",
    "                initial_Vertical_Position = cell_Data[\"Vertical Position\"].values.tolist()[last_Found_Index]\n",
    "                final_Horizontal_Position = cell_Data[\"Horizontal Position\"].values.tolist()[last_Found_Index + 1]\n",
    "                initial_Horizontal_Position = cell_Data[\"Horizontal Position\"].values.tolist()[last_Found_Index]\n",
    "                vertical_Change = final_Vertical_Position - initial_Vertical_Position\n",
    "                horizontal_Change = final_Horizontal_Position - initial_Horizontal_Position\n",
    "                new_Frame_Vertical = initial_Vertical_Position + vertical_Change*(not_Found_Count/dif)\n",
    "                new_Frame_Horizontal = initial_Horizontal_Position + horizontal_Change*(not_Found_Count/dif)\n",
    "                new_Row = {'Cell Number': [cell_Number],'Frame': [new_Frame],\"Vertical Position\": [new_Frame_Vertical], \"Horizontal Position\": [new_Frame_Horizontal]}\n",
    "                new_Row_Dataframe = pd.DataFrame(new_Row)\n",
    "                dynamic_Data = dynamic_Data.copy().append(new_Row_Dataframe, ignore_index = True)\n",
    "dynamic_Data = dynamic_Data.copy().sort_values(by = [\"Cell Number\",\"Frame\"],ignore_index = True)\n",
    "\n",
    "with_Flow_Velocities = []\n",
    "for cell_Number in unique_Cells:\n",
    "    horizontal_Positions = dynamic_Data[dynamic_Data[\"Cell Number\"] == cell_Number][\"Horizontal Position\"]\n",
    "    horizontal_Displacement = horizontal_Positions.iloc[len(horizontal_Positions) - 1] - horizontal_Positions.iloc[0]\n",
    "    \n",
    "    frames = dynamic_Data[dynamic_Data[\"Cell Number\"] == cell_Number][\"Frame\"]\n",
    "    frames_Adhered = frames.iloc[len(frames) - 1] - frames.iloc[0]\n",
    "    if frames_Adhered != 0:\n",
    "        with_Flow_Velocities.append(-1*(microns_Per_Pixel*horizontal_Displacement)/(seconds_Per_Frame*frames_Adhered))"
   ]
  },
  {
   "cell_type": "markdown",
   "id": "ed3915e5",
   "metadata": {},
   "source": [
    "### Run the following chunk of code to generate the average velocity distribution plot.\n",
    "\n",
    "The user can freely change the colors and spacings used as they wish."
   ]
  },
  {
   "cell_type": "code",
   "execution_count": null,
   "id": "posted-genre",
   "metadata": {},
   "outputs": [],
   "source": [
    "# Create Distribution Plots.\n",
    "max_X_Display = 8\n",
    "min_X_Display = -2\n",
    "colors = [\"#008000\",\"#800080\",\"#219ebc\",\"#023047\",\"#ffb703\",\"#d97400\", \"#ff0000\"]\n",
    "color_Spacing = (max_X_Display - min_X_Display)/len(colors)\n",
    "cutoffs = [-2,-0.5,0.25,2,3.5,5,6.5,8]\n",
    "probability_Weights = np.ones_like(with_Flow_Velocities)/len(with_Flow_Velocities)\n",
    "fig, ax = plt.subplots()\n",
    "\n",
    "N, bins, patches = ax.hist(with_Flow_Velocities, edgecolor = \"black\", facecolor = \"black\", alpha = 1, bins = 200, weights = probability_Weights, lw = 1)\n",
    "\n",
    "for i in range(len(cutoffs) - 1):\n",
    "    for j in range(len(bins) - 1):\n",
    "        if i < len(cutoffs) - 1:\n",
    "            if bins[j] > cutoffs[i] and bins[j] < cutoffs[i + 1]:\n",
    "                patches[j].set_facecolor(colors[i])\n",
    "        else:\n",
    "            if bins[j] > cutoffs[i]:\n",
    "                patches[j].set_facecolor(colors[i])\n",
    "            \n",
    "\n",
    "plt.title(\"With Flow Velocity Distribution\")\n",
    "plt.xlabel(\"With Flow Velocity \" + r\"$\\left(\\frac{\\mu m}{s}\\right)$\")\n",
    "plt.ylabel(\"Probability\")\n",
    "plt.xlim(min_X_Display,max_X_Display)\n",
    "plt.savefig(base_Directory + \"Analysis/Outputs/Colored_Distributions.png\")\n",
    "plt.savefig(base_Directory + \"Analysis/Outputs/Colored_Distributions.svg\")\n",
    "plt.show()"
   ]
  },
  {
   "cell_type": "markdown",
   "id": "e46de5fa",
   "metadata": {},
   "source": [
    "### You can run the following chunk of code to generate a tracks plot, showing trajectories of adhered cells during an experiment."
   ]
  },
  {
   "cell_type": "code",
   "execution_count": null,
   "id": "occupied-pursuit",
   "metadata": {},
   "outputs": [],
   "source": [
    "# Create Tracks Plot\n",
    "\n",
    "fig, ax = plt.subplots()\n",
    "vertical_Max = int(math.ceil(np.max(dynamic_Data[\"Vertical Position\"])*microns_Per_Pixel / 100.0)) * 100\n",
    "vertical_Min = int(math.ceil(np.min(dynamic_Data[\"Vertical Position\"])*microns_Per_Pixel / 100.0)) * 100\n",
    "horizontal_Max = int(math.ceil(np.max(dynamic_Data[\"Horizontal Position\"])*microns_Per_Pixel / 100.0)) * 100\n",
    "horizontal_Min = int(math.ceil(np.min(dynamic_Data[\"Horizontal Position\"])*microns_Per_Pixel / 100.0)) * 100\n",
    "plt.xlim(0,horizontal_Max)\n",
    "plt.ylim(0,vertical_Max)\n",
    "for cell_Number in unique_Cells[0:int(len(unique_Cells)/4)]:\n",
    "#for cell_Number in np.arange(0,101,1):\n",
    "    cell_Data = dynamic_Data[dynamic_Data[\"Cell Number\"] == cell_Number]\n",
    "    vertical_Positions = cell_Data[\"Vertical Position\"].values*microns_Per_Pixel\n",
    "    horizontal_Positions = cell_Data[\"Horizontal Position\"].values*microns_Per_Pixel\n",
    "    average_Velocity = -1*(horizontal_Positions[-1] - horizontal_Positions[0])/(len(cell_Data)*seconds_Per_Frame)\n",
    "    #if np.abs(horizontal_Positions[-1] - horizontal_Positions[0]) > 1:\n",
    "        #continue\n",
    "    for j in range(len(cutoffs) - 1):\n",
    "        if j < len(cutoffs) - 1:\n",
    "            if average_Velocity > cutoffs[j] and average_Velocity < cutoffs[j + 1]:\n",
    "                plt.plot(horizontal_Positions,vertical_Positions, color = colors[j], alpha = 1)\n",
    "                plt.scatter(horizontal_Positions[0],vertical_Positions[0], facecolor = \"white\", edgecolor = colors[j], alpha = 1, s = 20)\n",
    "        else:\n",
    "            if average_Velocity > cutoffs[j]:\n",
    "                plt.plot(horizontal_Positions,vertical_Positions, color = colors[j], alpha = 1)\n",
    "                plt.scatter(horizontal_Positions[0],vertical_Positions[0], facecolor = \"white\", edgecolor = colors[j], alpha = 1, s = 20)\n",
    "    #plt.text(horizontal_Positions[0] + 5,vertical_Positions[0] + 5,str(len(cell_Data)), size = 8)\n",
    "ax.tick_params(left = False, right = False , labelleft = False ,\n",
    "                labelbottom = False, bottom = False)\n",
    "plt.savefig(base_Directory + \"Analysis/Outputs/Tracks.png\")\n",
    "plt.savefig(base_Directory + \"Analysis/Outputs/Tracks.svg\")\n",
    "plt.show()"
   ]
  },
  {
   "cell_type": "code",
   "execution_count": null,
   "id": "vanilla-words",
   "metadata": {},
   "outputs": [],
   "source": []
  }
 ],
 "metadata": {
  "kernelspec": {
   "display_name": "Python 3 (ipykernel)",
   "language": "python",
   "name": "python3"
  },
  "language_info": {
   "codemirror_mode": {
    "name": "ipython",
    "version": 3
   },
   "file_extension": ".py",
   "mimetype": "text/x-python",
   "name": "python",
   "nbconvert_exporter": "python",
   "pygments_lexer": "ipython3",
   "version": "3.9.17"
  }
 },
 "nbformat": 4,
 "nbformat_minor": 5
}
