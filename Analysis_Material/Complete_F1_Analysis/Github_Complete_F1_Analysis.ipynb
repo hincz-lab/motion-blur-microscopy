{
 "cells": [
  {
   "cell_type": "markdown",
   "id": "169491c8",
   "metadata": {},
   "source": [
    "### Run the following chunk of code to import any libraries and packages needed to successfully run the rest of the script."
   ]
  },
  {
   "cell_type": "code",
   "execution_count": null,
   "id": "least-illinois",
   "metadata": {},
   "outputs": [],
   "source": [
    "import numpy as np\n",
    "import matplotlib.pyplot as plt\n",
    "import os as os\n",
    "import tensorflow as tf\n",
    "from tensorflow.keras.applications.vgg16 import preprocess_input\n",
    "import cv2 as cv2"
   ]
  },
  {
   "cell_type": "markdown",
   "id": "fb4431d0",
   "metadata": {},
   "source": [
    "### Run the following chunk of code to extract precision, recall, and F1 score values for various confidence threshold values.\n",
    "\n",
    "The user will need to update the base_Directory variable to their own directory layout. Users should also keep in mind the general directory structure of this script."
   ]
  },
  {
   "cell_type": "code",
   "execution_count": null,
   "id": "civic-program",
   "metadata": {},
   "outputs": [],
   "source": [
    "confidence_Values = np.arange(0.5,1,0.01)\n",
    "\n",
    "base_Directory = \"\"\n",
    "network = tf.keras.models.load_model(base_Directory + \"Training/Phase_2/Trained_Model/Phase_Two_Trained_Network.h5\")\n",
    "positive_Directory = base_Directory + \"Training/Phase_2/Raw_Training_Cells_Train_Split/Test/Car_T/\"\n",
    "negative_Directory = base_Directory + \"Training/Phase_2/Raw_Training_Cells_Train_Split/Test/Other/\"\n",
    "f1_Scores = []\n",
    "recalls = []\n",
    "precisions = []\n",
    "for confidence in confidence_Values:\n",
    "    print(\"Analyzing With Confidence Bound \" + str(confidence) + \":\")\n",
    "    true_Values = []\n",
    "    guesses = []\n",
    "    for file in os.listdir(negative_Directory):\n",
    "        current_Image = plt.imread(negative_Directory + file)\n",
    "        if np.max(current_Image) == int(np.max(current_Image)) and len(str(np.max(current_Image))) == len(str(int(np.max(current_Image)))):\n",
    "            current_Image = current_Image.copy()/255.\n",
    "        if len(np.shape(current_Image)) == 2:\n",
    "            current_Image = cv2.cvtColor(current_Image.copy(), cv2.COLOR_GRAY2RGB)\n",
    "        if np.shape(current_Image)[2] == 4:\n",
    "            current_Image = current_Image.copy()[:,:,0:3]\n",
    "        current_Image = preprocess_input(255*current_Image.copy())\n",
    "        current_Image = np.reshape(current_Image.copy(),(1,40,40,3))\n",
    "        prediction = network.predict(current_Image, verbose = 0)\n",
    "        true_Values.append(\"negative\")\n",
    "        if np.argmax(prediction) == 0 and prediction[0,np.argmax(prediction)] > confidence:\n",
    "            guesses.append(\"positive\")\n",
    "        else:\n",
    "            guesses.append(\"negative\")\n",
    "    truths = [guesses[i] == true_Values[i] for i in range(len(guesses))]\n",
    "    true_Negatives = truths.count(True)\n",
    "    false_Positives = truths.count(False)\n",
    "    print(\"True Negative Rate = \" + str(true_Negatives/len(truths)))\n",
    "    print(\"False Positive Rate = \" + str(false_Positives/len(truths)))\n",
    "    \n",
    "    true_Values = []\n",
    "    guesses = []\n",
    "    \n",
    "    for file in os.listdir(positive_Directory):\n",
    "        current_Image = plt.imread(positive_Directory + file)\n",
    "        if np.max(current_Image) == int(np.max(current_Image)) and len(str(np.max(current_Image))) == len(str(int(np.max(current_Image)))):\n",
    "            current_Image = current_Image.copy()/255.\n",
    "        if len(np.shape(current_Image)) == 2:\n",
    "            current_Image = cv2.cvtColor(current_Image.copy(), cv2.COLOR_GRAY2RGB)\n",
    "        if np.shape(current_Image)[2] == 4:\n",
    "            current_Image = current_Image.copy()[:,:,0:3]\n",
    "        current_Image = preprocess_input(255*current_Image.copy())\n",
    "        current_Image = np.reshape(current_Image.copy(),(1,40,40,3))\n",
    "        prediction = network.predict(current_Image, verbose = 0)\n",
    "        true_Values.append(\"positive\")\n",
    "        if np.argmax(prediction) == 0 and prediction[0,np.argmax(prediction)] > confidence:\n",
    "            guesses.append(\"positive\")\n",
    "        else:\n",
    "            guesses.append(\"negative\")\n",
    "    truths = [guesses[i] == true_Values[i] for i in range(len(guesses))]\n",
    "    true_Positives = truths.count(True)\n",
    "    false_Negatives = truths.count(False)\n",
    "    recall = true_Positives/(true_Positives + false_Negatives)\n",
    "    precision = true_Positives/(true_Positives + false_Positives)\n",
    "    f1 = true_Positives/(true_Positives + 1/2*(false_Positives + false_Negatives))\n",
    "    print(\"True Positive Rate = \" + str(true_Positives/len(truths)))\n",
    "    print(\"False Negative Rate = \" + str(false_Negatives/len(truths)))\n",
    "    print(\"Precision = \" + str(precision))\n",
    "    print(\"Recall = \" + str(recall))\n",
    "    print(\"F1 = \" + str(f1))\n",
    "    print(\"\")\n",
    "    f1_Scores.append(f1)\n",
    "    recalls.append(recall)\n",
    "    precisions.append(precision)"
   ]
  },
  {
   "cell_type": "markdown",
   "id": "edd8acf8",
   "metadata": {},
   "source": [
    "### Run the following chunk of code to save the generated precisions, recalls, and F1 scores to .npy numpy arrays for later analysis."
   ]
  },
  {
   "cell_type": "code",
   "execution_count": null,
   "id": "outside-cholesterol",
   "metadata": {},
   "outputs": [],
   "source": [
    "np.save(base_Directory + \"Analysis/Precisions/Precisions_Test.npy\",precisions)\n",
    "np.save(base_Directory + \"Analysis/Recalls/Recalls_Test.npy\",recalls)\n",
    "np.save(base_Directory + \"Analysis/F1_Scores/F1_Scores_Test.npy\",f1_Scores)"
   ]
  }
 ],
 "metadata": {
  "kernelspec": {
   "display_name": "Python 3 (ipykernel)",
   "language": "python",
   "name": "python3"
  },
  "language_info": {
   "codemirror_mode": {
    "name": "ipython",
    "version": 3
   },
   "file_extension": ".py",
   "mimetype": "text/x-python",
   "name": "python",
   "nbconvert_exporter": "python",
   "pygments_lexer": "ipython3",
   "version": "3.9.17"
  }
 },
 "nbformat": 4,
 "nbformat_minor": 5
}
