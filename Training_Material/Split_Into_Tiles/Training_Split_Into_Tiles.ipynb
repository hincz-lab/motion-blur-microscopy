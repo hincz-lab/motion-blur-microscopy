{
  "nbformat": 4,
  "nbformat_minor": 0,
  "metadata": {
    "colab": {
      "provenance": [],
      "authorship_tag": "ABX9TyM5Zp05fV9QdAkFeYNj1qcv",
      "include_colab_link": true
    },
    "kernelspec": {
      "name": "python3",
      "display_name": "Python 3"
    },
    "language_info": {
      "name": "python"
    }
  },
  "cells": [
    {
      "cell_type": "markdown",
      "metadata": {
        "id": "view-in-github",
        "colab_type": "text"
      },
      "source": [
        "<a href=\"https://colab.research.google.com/github/hincz-lab/motion-blur-microscopy/blob/main/Training_Material/Split_Into_Tiles/Training_Split_Into_Tiles.ipynb\" target=\"_parent\"><img src=\"https://colab.research.google.com/assets/colab-badge.svg\" alt=\"Open In Colab\"/></a>"
      ]
    },
    {
      "cell_type": "markdown",
      "source": [
        "#Introduction"
      ],
      "metadata": {
        "id": "Io6DEw4bzAIk"
      }
    },
    {
      "cell_type": "markdown",
      "source": [
        "This code can be used to split MBM images and their respective masks (colored,labeled, labeled and layered) into tiles that can be used to train the phase one segmentation network.\n",
        "\n",
        "To begin, let's clone a directory to work in from github.\n",
        "\n",
        "You will need to go into the next block of code by double clicking the \"Show Code\" button underneath the \"Clone Github Repository\" header. Please replace the code <token> with your personal access token. \n",
        "\n",
        "To generate a personal access token, in Github, click on your icon at the top right and choose settings, then click on developer settings, and finally, create a personal access token. So, its settings -> Developer Settings -> Personal Access Token (Classic).\n",
        "\n",
        "After cloning the repository, you can see the repository in the \"Files\" section of Colab, located on the left-hand side of the screen."
      ],
      "metadata": {
        "id": "nonqoFij1SAl"
      }
    },
    {
      "cell_type": "code",
      "source": [
        "#@title Clone Github Repository\n",
        "!git clone https://<token>@github.com/hincz-lab/motion-blur-microscopy.git"
      ],
      "metadata": {
        "colab": {
          "base_uri": "https://localhost:8080/"
        },
        "cellView": "form",
        "id": "cJn2V92X1luE",
        "outputId": "00e77fa5-9efb-40d9-b002-3e05f68c516e"
      },
      "execution_count": null,
      "outputs": [
        {
          "output_type": "stream",
          "name": "stdout",
          "text": [
            "fatal: destination path 'motion-blur-microscopy' already exists and is not an empty directory.\n"
          ]
        }
      ]
    },
    {
      "cell_type": "markdown",
      "source": [
        "Next, we import any packages or libraries that we may need for this code."
      ],
      "metadata": {
        "id": "jCih6jig70dB"
      }
    },
    {
      "cell_type": "code",
      "source": [
        "#@title Import Packages And Libraries\n",
        "import cv2 as cv2\n",
        "import matplotlib.pyplot as plt\n",
        "import numpy as np\n",
        "import os as os"
      ],
      "metadata": {
        "cellView": "form",
        "id": "49u7TKOL89Fz"
      },
      "execution_count": null,
      "outputs": []
    },
    {
      "cell_type": "markdown",
      "source": [
        "# Complete Analysis"
      ],
      "metadata": {
        "id": "1ISJgSpx89Pe"
      }
    },
    {
      "cell_type": "markdown",
      "source": [
        "To complete the analysis, you will be required to upload any MBM images or masks that you would like to be split into tiles for training. \n",
        "\n",
        "Specifically, if you want to **split MBM images into tiles**, you should upload those images to the directory **motion-blur-microscopy -> Training_Material -> Split_Into_Tiles -> Original_Images**.\n",
        "\n",
        "If you want to **split MBM full masks**, you should upload those images to the directory **motion-blur-microscopy -> Training_Material -> Split_Into_Tiles -> Full_Masks**\n",
        "\n",
        "If you want to **split MBM labeled masks**, you should upload those images to the directory **motion-blur-microscopy -> Training_Material -> Split_Into_Tiles -> Labeled_Masks**.\n",
        "\n",
        "If you want to **split MBM labeled and layered masks**, you should upload those images to the directory **motion-blur-microscopy -> Training_Material -> Split_Into_Tiles -> Labeled_And_Layered_Masks**.\n",
        "\n",
        "Note, images for the first of these three categories should ideally be uploaded as .png images, but .jpg is acceptable as well. The labeled and layered masks should be uploaded as .npy files.\n",
        "\n",
        "Further note, that all uploaded files should be titled as integers. If you have MBM images and masks that you need to keep consistent, then all MBM images and masks that correspond to each other should be labeled with the same integer in their respective folders."
      ],
      "metadata": {
        "id": "MEElCOl19IWe"
      }
    },
    {
      "cell_type": "code",
      "execution_count": null,
      "metadata": {
        "id": "Z_K2Cumuy7qC"
      },
      "outputs": [],
      "source": [
        "#@title Split Into Tiles\n",
        "\n",
        "base_Directory = \"motion-blur-microscopy/Training_Material/Split_Into_Tiles/\"\n",
        "\n",
        "for subdirectory in os.listdir(base_Directory):\n",
        "  if '.ipynb_checkpoints' in os.listdir(base_Directory + subdirectory):\n",
        "    os.rmdir(base_Directory + subdirectory + \"/.ipynb_checkpoints\")\n",
        "  if 'blank.txt' in os.listdir(base_Directory + subdirectory):\n",
        "      os.remove(base_Directory + subdirectory + \"/blank.txt\")\n",
        "\n",
        "\n",
        "original_Channel_Path = base_Directory + \"Original_Images/\"\n",
        "full_Mask_Path = base_Directory + \"Full_Masks/\"\n",
        "labeled_Mask_Path = base_Directory + \"Labeled_Masks/\"\n",
        "labeled_And_Layered_Mask_Path = base_Directory + \"Labeled_And_Layered_Masks/\"\n",
        "\n",
        "original_Tiles_Path = base_Directory + \"Original_Image_Tiles/\"\n",
        "full_Tiles_Path = base_Directory + \"Full_Mask_Tiles/\"\n",
        "labeled_Tiles_Path = base_Directory + \"Labeled_Tiles/\"\n",
        "labeled_And_Layered_Tiles_Path = base_Directory + \"Labeled_And_Layered_Tiles/\"\n",
        "\n",
        "\n",
        "original_Tiles_Resized_Path = base_Directory + \"Original_Image_Tiles_Resized/\"\n",
        "full_Tiles_Resized_Path = base_Directory + \"Full_Mask_Tiles_Resized/\"\n",
        "labeled_Tiles_Resized_Path = base_Directory + \"Labeled_Tiles_Resized/\"\n",
        "labeled_And_Layered_Tiles_Resized_Path = base_Directory + \"Labeled_And_Layered_Tiles_Resized/\"\n",
        "\n",
        "tile_Size = 150\n",
        "tile_Resize_Size = 128\n",
        "\n",
        "\n",
        "count = 1\n",
        "for current in os.listdir(original_Channel_Path):\n",
        "    current_Image = plt.imread(original_Channel_Path + current)\n",
        "    current = current.replace(\".jpg\",\".png\")\n",
        "    colored_Mask = plt.imread(full_Mask_Path + current)\n",
        "    labeled_Mask = plt.imread(labeled_Mask_Path + current)\n",
        "    current = current.replace(\".png\",\".npy\")\n",
        "    labeled_Layered_Mask = np.load(labeled_And_Layered_Mask_Path + current)\n",
        "    \n",
        "    channel_Height, channel_Width, channels = np.shape(current_Image)\n",
        "    vertical_Tiles = int(np.floor(channel_Height/tile_Size))\n",
        "    horizontal_Tiles = int(np.floor(channel_Width/tile_Size))\n",
        "    \n",
        "    for i in range(vertical_Tiles):\n",
        "        for j in range(horizontal_Tiles):\n",
        "            original_Image_Tile = current_Image[tile_Size*i:tile_Size + (tile_Size*i),tile_Size*j:tile_Size + (tile_Size*j),:]\n",
        "            original_Image_Tile_Resized = cv2.resize(original_Image_Tile, (tile_Resize_Size,tile_Resize_Size), interpolation = cv2.INTER_CUBIC)\n",
        "            plt.imsave(original_Tiles_Path + str(count) + \".png\",original_Image_Tile)\n",
        "            plt.imsave(original_Tiles_Resized_Path + str(count) + \".png\",original_Image_Tile_Resized)\n",
        "            \n",
        "            colored_Tile = colored_Mask[tile_Size*i:tile_Size + (tile_Size*i),tile_Size*j:tile_Size + (tile_Size*j),:]\n",
        "            colored_Tile_Resized = cv2.resize(colored_Tile, (tile_Resize_Size,tile_Resize_Size), interpolation = cv2.INTER_NEAREST)\n",
        "            plt.imsave(full_Tiles_Path + str(count) + \".png\",colored_Tile)\n",
        "            plt.imsave(full_Tiles_Resized_Path + str(count) + \".png\",colored_Tile_Resized)\n",
        "            \n",
        "            labeled_Tile = labeled_Mask[tile_Size*i:tile_Size + (tile_Size*i),tile_Size*j:tile_Size + (tile_Size*j),:]\n",
        "            labeled_Tile_Resized = cv2.resize(labeled_Tile, (tile_Resize_Size,tile_Resize_Size), interpolation = cv2.INTER_NEAREST)\n",
        "            plt.imsave(labeled_Tiles_Path + str(count) + \".png\",labeled_Tile)\n",
        "            plt.imsave(labeled_Tiles_Resized_Path + str(count) + \".png\",labeled_Tile_Resized)\n",
        "            \n",
        "            labeled_Layered_Tile = labeled_Layered_Mask[tile_Size*i:tile_Size + (tile_Size*i),tile_Size*j:tile_Size + (tile_Size*j)]\n",
        "            labeled_Layered_Tile_Resized = cv2.resize(labeled_Layered_Tile, (tile_Resize_Size,tile_Resize_Size), interpolation = cv2.INTER_CUBIC)\n",
        "            np.save(labeled_And_Layered_Tiles_Path + str(count) + \".npy\",labeled_Layered_Tile)\n",
        "            np.save(labeled_And_Layered_Tiles_Resized_Path + str(count) + \".npy\",labeled_Layered_Tile_Resized)\n",
        "            \n",
        "            count += 1"
      ]
    },
    {
      "cell_type": "markdown",
      "source": [
        "The output of running the previous block of code will be eight sets of data, 4 sets of data for original, full mask, labeled, and labaeled and layered tiles of size 150x150, and 4 sets of data for original, full mask, labeled, and labeled and layered tiles resized to 128x128.\n",
        "\n",
        "Tiles of original images can be located at **motion-blur-microscopy -> Training_Material -> Split_Into_Tiles -> Original_Image_Tiles**.\n",
        "\n",
        "Tiles of colored masks can be located at **motion-blur-microscopy -> Training_Material -> Split_Into_Tiles -> Full_Mask_Tiles**.\n",
        "\n",
        "Tiles of labeled masks can be located at **motion-blur-microscopy -> Training_Material -> Split_Into_Tiles -> Labeled_Tiles**.\n",
        "\n",
        "Tiles of labeled and layered masks can be located at **motion-blur-microscopy -> Training_Material -> Split_Into_Tiles -> Labeled_And_Layered_Tiles**.\n",
        "\n",
        "Resized tiles of original images can be located at **motion-blur-microscopy -> Training_Material -> Split_Into_Tiles -> Original_Image_Tiles_Resized**.\n",
        "\n",
        "Resized tiles of colored masks can be located at **motion-blur-microscopy -> Training_Material -> Split_Into_Tiles -> Full_Mask_Tiles_Resized**.\n",
        "\n",
        "Resized tiles of labeled masks can be located at **motion-blur-microscopy -> Training_Material -> Split_Into_Tiles -> Labeled_Tiles_Resized**.\n",
        "\n",
        "Resized tiles of labeled and layered masks can be located at **motion-blur-microscopy -> Training_Material -> Split_Into_Tiles -> Labeled_And_Layered_Tiles_Resized**."
      ],
      "metadata": {
        "id": "MUigqxTPvIqX"
      }
    }
  ]
}