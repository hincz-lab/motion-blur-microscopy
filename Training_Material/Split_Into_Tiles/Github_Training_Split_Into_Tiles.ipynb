{
 "cells": [
  {
   "cell_type": "markdown",
   "id": "66febab3",
   "metadata": {},
   "source": [
    "#### Run the following chunk of code to import all necessary libraries and packages to run the rest of the script."
   ]
  },
  {
   "cell_type": "code",
   "execution_count": 2,
   "id": "threaded-institution",
   "metadata": {},
   "outputs": [],
   "source": [
    "# Importing Relevant Packages.\n",
    "import cv2 as cv2\n",
    "import matplotlib.pyplot as plt\n",
    "import numpy as np\n",
    "import os as os"
   ]
  },
  {
   "cell_type": "markdown",
   "id": "3d510371",
   "metadata": {},
   "source": [
    "#### Run the following chunk of code to chop raw MBM images, colored masks, label-encoded masks, and one-hot encoded masks into tiles of size 150x150 pixels, which are then resized to tiles of size 128x128 pixels for input into the segmentation network architecture.\n",
    "\n",
    "Take particular note of the directory structure being followed. You will need to adjust the base_Directory variable to account for your own directory naming conventions."
   ]
  },
  {
   "cell_type": "code",
   "execution_count": 3,
   "id": "western-perception",
   "metadata": {},
   "outputs": [],
   "source": [
    "base_Directory = \"\"\n",
    "\n",
    "original_Channel_Path = base_Directory + \"Raw_Training_Images/\"\n",
    "full_Mask_Path = base_Directory + \"Training_Images_Full_Masks/\"\n",
    "labeled_Mask_Path = base_Directory + \"Training_Images_Labeled/\"\n",
    "labeled_And_Layered_Mask_Path = base_Directory + \"Training_Images_Labeled_And_Layered/\"\n",
    "\n",
    "original_Tiles_Path = base_Directory + \"Raw_Training_Tiles/\"\n",
    "full_Tiles_Path = base_Directory + \"Training_Tiles_Full_Masks/\"\n",
    "labeled_Tiles_Path = base_Directory + \"Training_Tiles_Labeled/\"\n",
    "labeled_And_Layered_Tiles_Path = base_Directory + \"Training_Tiles_Labeled_And_Layered/\"\n",
    "\n",
    "\n",
    "original_Tiles_Resized_Path = base_Directory + \"Raw_Training_Tiles_Resized/\"\n",
    "full_Tiles_Resized_Path = base_Directory + \"Training_Tiles_Full_Masks_Resized/\"\n",
    "labeled_Tiles_Resized_Path = base_Directory + \"Training_Tiles_Labeled_Resized/\"\n",
    "labeled_And_Layered_Tiles_Resized_Path = base_Directory + \"Training_Tiles_Labeled_And_Layered_Resized/\"\n",
    "\n",
    "tile_Size = 150\n",
    "tile_Resize_Size = 128\n",
    "\n",
    "\n",
    "count = 1\n",
    "for current in os.listdir(original_Channel_Path):\n",
    "    current_Image = plt.imread(original_Channel_Path + current)\n",
    "    current = current.replace(\".jpg\",\".png\")\n",
    "    colored_Mask = plt.imread(full_Mask_Path + current)\n",
    "    labeled_Mask = plt.imread(labeled_Mask_Path + current)\n",
    "    current = current.replace(\".png\",\".npy\")\n",
    "    labeled_Layered_Mask = np.load(labeled_And_Layered_Mask_Path + current)\n",
    "    \n",
    "    channel_Height, channel_Width, channels = np.shape(current_Image)\n",
    "    vertical_Tiles = int(np.floor(channel_Height/tile_Size))\n",
    "    horizontal_Tiles = int(np.floor(channel_Width/tile_Size))\n",
    "    \n",
    "    for i in range(vertical_Tiles):\n",
    "        for j in range(horizontal_Tiles):\n",
    "            original_Image_Tile = current_Image[tile_Size*i:tile_Size + (tile_Size*i),tile_Size*j:tile_Size + (tile_Size*j),:]\n",
    "            original_Image_Tile_Resized = cv2.resize(original_Image_Tile, (tile_Resize_Size,tile_Resize_Size), interpolation = cv2.INTER_CUBIC)\n",
    "            plt.imsave(original_Tiles_Path + str(count) + \".png\",original_Image_Tile)\n",
    "            plt.imsave(original_Tiles_Resized_Path + str(count) + \".png\",original_Image_Tile_Resized)\n",
    "            \n",
    "            colored_Tile = colored_Mask[tile_Size*i:tile_Size + (tile_Size*i),tile_Size*j:tile_Size + (tile_Size*j),:]\n",
    "            colored_Tile_Resized = cv2.resize(colored_Tile, (tile_Resize_Size,tile_Resize_Size), interpolation = cv2.INTER_NEAREST)\n",
    "            plt.imsave(full_Tiles_Path + str(count) + \".png\",colored_Tile)\n",
    "            plt.imsave(full_Tiles_Resized_Path + str(count) + \".png\",colored_Tile_Resized)\n",
    "            \n",
    "            labeled_Tile = labeled_Mask[tile_Size*i:tile_Size + (tile_Size*i),tile_Size*j:tile_Size + (tile_Size*j),:]\n",
    "            labeled_Tile_Resized = cv2.resize(labeled_Tile, (tile_Resize_Size,tile_Resize_Size), interpolation = cv2.INTER_NEAREST)\n",
    "            plt.imsave(labeled_Tiles_Path + str(count) + \".png\",labeled_Tile)\n",
    "            plt.imsave(labeled_Tiles_Resized_Path + str(count) + \".png\",labeled_Tile_Resized)\n",
    "            \n",
    "            labeled_Layered_Tile = labeled_Layered_Mask[tile_Size*i:tile_Size + (tile_Size*i),tile_Size*j:tile_Size + (tile_Size*j)]\n",
    "            labeled_Layered_Tile_Resized = cv2.resize(labeled_Layered_Tile, (tile_Resize_Size,tile_Resize_Size), interpolation = cv2.INTER_CUBIC)\n",
    "            np.save(labeled_And_Layered_Tiles_Path + str(count) + \".npy\",labeled_Layered_Tile)\n",
    "            np.save(labeled_And_Layered_Tiles_Resized_Path + str(count) + \".npy\",labeled_Layered_Tile_Resized)\n",
    "            \n",
    "            count += 1"
   ]
  },
  {
   "cell_type": "code",
   "execution_count": null,
   "id": "exposed-yugoslavia",
   "metadata": {},
   "outputs": [],
   "source": []
  }
 ],
 "metadata": {
  "kernelspec": {
   "display_name": "Python 3 (ipykernel)",
   "language": "python",
   "name": "python3"
  },
  "language_info": {
   "codemirror_mode": {
    "name": "ipython",
    "version": 3
   },
   "file_extension": ".py",
   "mimetype": "text/x-python",
   "name": "python",
   "nbconvert_exporter": "python",
   "pygments_lexer": "ipython3",
   "version": "3.9.15"
  }
 },
 "nbformat": 4,
 "nbformat_minor": 5
}
