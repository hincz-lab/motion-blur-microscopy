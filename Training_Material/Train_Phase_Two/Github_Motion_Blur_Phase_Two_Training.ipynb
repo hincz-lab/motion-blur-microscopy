{
 "cells": [
  {
   "cell_type": "markdown",
   "id": "9777f0ea",
   "metadata": {},
   "source": [
    "### Run the following chunk of code to import any libraries and packages required to run the rest of the script."
   ]
  },
  {
   "cell_type": "code",
   "execution_count": null,
   "id": "physical-irish",
   "metadata": {},
   "outputs": [],
   "source": [
    "import tensorflow as tf\n",
    "from tensorflow import keras\n",
    "from tensorflow.keras.models import Sequential\n",
    "from tensorflow.keras.layers import Dense, Flatten\n",
    "from tensorflow.keras.preprocessing.image import ImageDataGenerator\n",
    "from tensorflow.keras.applications.vgg16 import VGG16\n",
    "from tensorflow.keras.applications.vgg16 import preprocess_input\n",
    "from tensorflow.keras import layers,models\n",
    "from tensorflow.keras.callbacks import ModelCheckpoint, EarlyStopping"
   ]
  },
  {
   "cell_type": "markdown",
   "id": "86faf4ae",
   "metadata": {},
   "source": [
    "### Run the following chunk of code to generate the architecture used for the phase two classification network.\n",
    "\n",
    "Here we are using a VGG16 architecture with pre-trained weights on the imagenet dataset. This transfer learning approach greatly reduces the required training data input on our end."
   ]
  },
  {
   "cell_type": "code",
   "execution_count": null,
   "id": "compressed-enough",
   "metadata": {},
   "outputs": [],
   "source": [
    "## Loading VGG16 model\n",
    "base_model = VGG16(weights=\"imagenet\", include_top=False, input_shape=(40,40,3))\n",
    "base_model.trainable = False ## Not trainable weights\n",
    "\n",
    "flatten_layer = layers.Flatten()\n",
    "dense_layer_1 = layers.Dense(16, activation='relu')\n",
    "dense_layer_2 = layers.Dense(8, activation='relu')\n",
    "dense_layer_3 = layers.Dense(4, activation='relu')\n",
    "prediction_layer = layers.Dense(2, activation='softmax')\n",
    "\n",
    "model = models.Sequential([\n",
    "    base_model,\n",
    "    flatten_layer,\n",
    "    dense_layer_1,\n",
    "    dense_layer_2,\n",
    "    dense_layer_3,\n",
    "    prediction_layer\n",
    "])"
   ]
  },
  {
   "cell_type": "markdown",
   "id": "53698374",
   "metadata": {},
   "source": [
    "### Run the following code to create the data generators, which will read in the training and testing data in batches.\n",
    "\n",
    "The user will need to change the directory tag in the traindata and testdata variables to match the location of their. Please the possible confusion of names here, when we use test in the code, we really mean validate."
   ]
  },
  {
   "cell_type": "code",
   "execution_count": null,
   "id": "atmospheric-hepatitis",
   "metadata": {},
   "outputs": [],
   "source": [
    "trdata = ImageDataGenerator(    featurewise_center=False, samplewise_center=False,\n",
    "    featurewise_std_normalization=False, samplewise_std_normalization=False,\n",
    "    zca_whitening=False, zca_epsilon=1e-06, rotation_range=0, width_shift_range=0.0,\n",
    "    height_shift_range=0.0, brightness_range=None, shear_range=0.0, zoom_range=0.0,\n",
    "    channel_shift_range=0.0, fill_mode='nearest', cval=0.0,\n",
    "    horizontal_flip=True, vertical_flip=True, rescale=None,\n",
    "    preprocessing_function=preprocess_input, data_format=None, validation_split=0.0, dtype=None)\n",
    "traindata = trdata.flow_from_directory(directory=\"\",target_size=(40,40))\n",
    "\n",
    "tsdata = ImageDataGenerator(    featurewise_center=False, samplewise_center=False,\n",
    "    featurewise_std_normalization=False, samplewise_std_normalization=False,\n",
    "    zca_whitening=False, zca_epsilon=1e-06, rotation_range=0, width_shift_range=0.0,\n",
    "    height_shift_range=0.0, brightness_range=None, shear_range=0.0, zoom_range=0.0,\n",
    "    channel_shift_range=0.0, fill_mode='nearest', cval=0.0,\n",
    "    horizontal_flip=True, vertical_flip=True, rescale=None,\n",
    "    preprocessing_function=preprocess_input, data_format=None, validation_split=0.0, dtype=None)\n",
    "testdata = tsdata.flow_from_directory(directory=\"\",target_size=(40,40))"
   ]
  },
  {
   "cell_type": "markdown",
   "id": "2ad38618",
   "metadata": {},
   "source": [
    "### Run the following code to train the pre-built VGG16 architecture and weights to classify cells in our problem.\n",
    "\n",
    "The user may need to change the class_weight variable, to account for any particular class imbalances in your dataset."
   ]
  },
  {
   "cell_type": "code",
   "execution_count": null,
   "id": "higher-treasurer",
   "metadata": {
    "scrolled": true
   },
   "outputs": [],
   "source": [
    "class_weight = {0:1/1028, 1: 1/6917}\n",
    "\n",
    "model.compile(\n",
    "    optimizer='adam',\n",
    "    loss='categorical_crossentropy',\n",
    "    metrics=['accuracy'],\n",
    ")\n",
    "\n",
    "checkpoint = ModelCheckpoint(\"vgg16_1.h5\", monitor='val_loss', verbose=1, save_best_only=True, save_weights_only=False, mode='auto')\n",
    "early = EarlyStopping(monitor='val_loss', min_delta=0, patience=10, verbose=1, mode='auto', restore_best_weights=True)\n",
    "\n",
    "hist = model.fit(traindata, validation_data= testdata,epochs=1000,callbacks=[checkpoint,early],class_weight = class_weight)"
   ]
  },
  {
   "cell_type": "markdown",
   "id": "a052ec3b",
   "metadata": {},
   "source": [
    "### Run the following chunk of code to save the trained network architecture and weights.\n",
    "\n",
    "The user will need to input their own target directory to save the network to."
   ]
  },
  {
   "cell_type": "code",
   "execution_count": null,
   "id": "joined-single",
   "metadata": {},
   "outputs": [],
   "source": [
    "model.save(\"\")"
   ]
  }
 ],
 "metadata": {
  "kernelspec": {
   "display_name": "Python 3 (ipykernel)",
   "language": "python",
   "name": "python3"
  },
  "language_info": {
   "codemirror_mode": {
    "name": "ipython",
    "version": 3
   },
   "file_extension": ".py",
   "mimetype": "text/x-python",
   "name": "python",
   "nbconvert_exporter": "python",
   "pygments_lexer": "ipython3",
   "version": "3.9.17"
  }
 },
 "nbformat": 4,
 "nbformat_minor": 5
}
